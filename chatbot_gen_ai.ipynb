{
  "nbformat": 4,
  "nbformat_minor": 0,
  "metadata": {
    "colab": {
      "provenance": []
    },
    "kernelspec": {
      "name": "python3",
      "display_name": "Python 3"
    },
    "language_info": {
      "name": "python"
    }
  },
  "cells": [
    {
      "cell_type": "code",
      "execution_count": 2,
      "metadata": {
        "colab": {
          "base_uri": "https://localhost:8080/"
        },
        "id": "e97PI6i3OUSH",
        "outputId": "d9ddce10-6102-4cae-8319-7e88f49957ad"
      },
      "outputs": [
        {
          "output_type": "stream",
          "name": "stderr",
          "text": [
            "Device set to use cpu\n"
          ]
        },
        {
          "output_type": "stream",
          "name": "stdout",
          "text": [
            "You: exit\n",
            "Chatbot: Goodbye!\n"
          ]
        }
      ],
      "source": [
        "#aditya kushwaha\n",
        "#import req modules\n",
        "from transformers import pipeline, set_seed\n",
        "\n",
        "# Load GPT-2 model and set seed\n",
        "chatbot = pipeline('text-generation', model='gpt2')\n",
        "set_seed(42)\n",
        "\n",
        "# Define chatbot response function\n",
        "def chatbot_response(prompt, max_length=100):\n",
        "    responses = chatbot(prompt, max_length=max_length, num_return_sequences=1)\n",
        "    return responses[0]['generated_text']\n",
        "\n",
        "# Start a simple chat loop\n",
        "while True:\n",
        "    user_input = input(\"You: \")\n",
        "    if user_input.lower() in ['exit', 'quit']:\n",
        "        print(\"Chatbot: Goodbye!\")\n",
        "        break\n",
        "    print(\"Chatbot:\", chatbot_response(user_input))"
      ]
    },
    {
      "cell_type": "code",
      "source": [],
      "metadata": {
        "id": "lOdPn_OSR49T"
      },
      "execution_count": null,
      "outputs": []
    }
  ]
}